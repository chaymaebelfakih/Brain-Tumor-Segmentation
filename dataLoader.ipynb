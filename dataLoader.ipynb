{
  "nbformat": 4,
  "nbformat_minor": 0,
  "metadata": {
    "colab": {
      "provenance": []
    },
    "kernelspec": {
      "name": "python3",
      "display_name": "Python 3"
    },
    "language_info": {
      "name": "python"
    }
  },
  "cells": [
    {
      "cell_type": "code",
      "execution_count": null,
      "metadata": {
        "id": "iEurtVduiUBx"
      },
      "outputs": [],
      "source": [
        "\n",
        "\n",
        "import os\n",
        "import nibabel as nib\n",
        "import numpy as np\n",
        "import torch\n",
        "from torch.utils.data import Dataset\n",
        "import shutil\n",
        "\n",
        "\n",
        "\n",
        "class BraTSDataset(Dataset):\n",
        "    def __init__(self, root_dir):\n",
        "        self.root_dir = root_dir\n",
        "        self.patients = sorted(os.listdir(root_dir))\n",
        "\n",
        "    def __len__(self):\n",
        "        return len(self.patients)\n",
        "\n",
        "    def __getitem__(self, idx):\n",
        "        patient_id = self.patients[idx]\n",
        "        patient_path = os.path.join(self.root_dir, patient_id)\n",
        "\n",
        "        # Chargement des modalités séparément pour chaque patient\n",
        "        flair = nib.load(os.path.join(patient_path, f\"{patient_id}_flair.nii.gz\")).get_fdata()\n",
        "        t1 = nib.load(os.path.join(patient_path, f\"{patient_id}_t1.nii.gz\")).get_fdata()\n",
        "        t1ce = nib.load(os.path.join(patient_path, f\"{patient_id}_t1ce.nii.gz\")).get_fdata()\n",
        "        t2 = nib.load(os.path.join(patient_path, f\"{patient_id}_t2.nii.gz\")).get_fdata()\n",
        "\n",
        "        # Chargement du masque (segmentation)\n",
        "        mask = nib.load(os.path.join(patient_path, f\"{patient_id}_seg.nii.gz\")).get_fdata()\n",
        "\n",
        "        # Conversion en tenseur PyTorch\n",
        "        flair = torch.tensor(flair, dtype=torch.float32).unsqueeze(0)\n",
        "        t1 = torch.tensor(t1, dtype=torch.float32).unsqueeze(0)\n",
        "        t1ce = torch.tensor(t1ce, dtype=torch.float32).unsqueeze(0)\n",
        "        t2 = torch.tensor(t2, dtype=torch.float32).unsqueeze(0)\n",
        "        mask = torch.tensor(mask, dtype=torch.float32).unsqueeze(0)\n",
        "\n",
        "        return flair, t1, t1ce, t2, mask\n",
        "\n",
        "\n",
        "#  le chemin de mon dataset\n",
        "root_dir = \"BraTS2021_Augmented\"\n",
        "\n",
        "# Créatuin d'une instance du dataset\n",
        "dataset = BraTSDataset(root_dir)\n",
        "\n",
        "# Vérification du taille du dataset\n",
        "print(f\"Nombre total de patients dans le dataset : {len(dataset)}\")\n",
        "\n",
        "# Teste un exemple\n",
        "flair, t1, t1ce, t2, mask = dataset[0]\n",
        "\n",
        "# Affichage de la forme des données\n",
        "print(f\"Flair shape: {flair.shape}\")\n",
        "print(f\"T1 shape: {t1.shape}\")\n",
        "print(f\"T1ce shape: {t1ce.shape}\")\n",
        "print(f\"T2 shape: {t2.shape}\")\n",
        "print(f\"Mask shape: {mask.shape}\")"
      ]
    }
  ]
}